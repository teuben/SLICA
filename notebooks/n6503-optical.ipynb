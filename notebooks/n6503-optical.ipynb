{
 "cells": [
  {
   "cell_type": "markdown",
   "metadata": {},
   "source": [
    "#  NGC 6503\n",
    "\n",
    "The galaxy NGC 6503 is not a very bright or massive or big galaxy as they come, however it is relatively isolated in space and thus not very perturbed by nearby companions. This simplifies studying the gasflow in the galaxy.\n",
    "\n",
    "![Neighborhood](../data/NGC6503_Edge7_PS2SZ_RT_Annotated1.jpg \"a lonely galaxy\")"
   ]
  },
  {
   "cell_type": "code",
   "execution_count": null,
   "metadata": {
    "collapsed": true
   },
   "outputs": [],
   "source": []
  },
  {
   "cell_type": "markdown",
   "metadata": {
    "collapsed": true
   },
   "source": [
    "## References\n",
    "\n",
    "\n",
    "* [Analysis of high-resolution velocity fields - NGC 6503 (van Moorsel, 1985)](http://adsabs.harvard.edu/abs/1985AJ.....90.1038V)\n",
    "* [Aperture Synthesis Observations of the Nearby Spiral NGC 6503: Modeling the Thin and Thick H I Disks (Greisen, 2009)](http://adsabs.harvard.edu/abs/2009AJ....137.4718G)\n",
    "\n",
    "* [Searching for non-axisymmetries in NGC 6503: a weak end-on bar (Kuzio de Naray, 2012)]( http://adsabs.harvard.edu/abs/2012MNRAS.427.2523K)"
   ]
  },
  {
   "cell_type": "code",
   "execution_count": null,
   "metadata": {
    "collapsed": true
   },
   "outputs": [],
   "source": []
  }
 ],
 "metadata": {
  "kernelspec": {
   "display_name": "Python 3",
   "language": "python",
   "name": "python3"
  },
  "language_info": {
   "codemirror_mode": {
    "name": "ipython",
    "version": 3
   },
   "file_extension": ".py",
   "mimetype": "text/x-python",
   "name": "python",
   "nbconvert_exporter": "python",
   "pygments_lexer": "ipython3",
   "version": "3.5.1"
  }
 },
 "nbformat": 4,
 "nbformat_minor": 0
}
