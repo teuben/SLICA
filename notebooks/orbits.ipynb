{
 "metadata": {
  "name": "",
  "signature": "sha256:4b1ed1e136b2b9661915d15227b92a0b3739ba044555c03eef2eafd02683d0ec"
 },
 "nbformat": 3,
 "nbformat_minor": 0,
 "worksheets": [
  {
   "cells": [
    {
     "cell_type": "markdown",
     "metadata": {},
     "source": [
      "# Gas Streaming in Disks\n",
      "\n",
      "The gas streaming around a young star, or in a galactic disk is dominated by gravity. So we can simply compute the orbits of a point mass around a heavy star, or in the more complex potential of a galactic disk. Although there is a wonderful package in python  for this, [galpy](https://github.com/jobovy/galpy), we will first try and use this from scratch in simple pure python."
     ]
    },
    {
     "cell_type": "code",
     "collapsed": false,
     "input": [
      "%matplotlib inline"
     ],
     "language": "python",
     "metadata": {},
     "outputs": [],
     "prompt_number": 13
    },
    {
     "cell_type": "markdown",
     "metadata": {},
     "source": [
      "# Initialize the data"
     ]
    },
    {
     "cell_type": "code",
     "collapsed": false,
     "input": [
      "import numpy as np\n",
      "import math"
     ],
     "language": "python",
     "metadata": {},
     "outputs": [],
     "prompt_number": 1
    },
    {
     "cell_type": "code",
     "collapsed": false,
     "input": [
      "def velocity(radius, model='galaxy'):\n",
      "    \"\"\"describe the streaming velocity as function of radius in or around an object\n",
      "    such as a star or a galaxy.  We define the velocity to be 1 at a radius of 1.\n",
      "    \"\"\"\n",
      "    if model == 'star':\n",
      "        if radius == 0.0:\n",
      "            return 0.0\n",
      "        else:\n",
      "            return 1.0/math.sqrt(radius)\n",
      "    elif model == 'galaxy':\n",
      "        if radius > 1.0:\n",
      "            # flat rotation curve outside radius 1.0\n",
      "            return 1.0\n",
      "        else:\n",
      "            # solid body inside radius 1.0, linearly rising rotation curve\n",
      "            return radius\n",
      "    elif model == 'plummer':\n",
      "        return radius / (1+radius*radius)**0.75\n",
      "    else:\n",
      "        return 0.0\n",
      "        "
     ],
     "language": "python",
     "metadata": {},
     "outputs": [],
     "prompt_number": 24
    },
    {
     "cell_type": "code",
     "collapsed": false,
     "input": [
      "model = 'star'\n",
      "#model = 'galaxy'\n",
      "model = 'plummer'\n",
      "rad = np.arange(0.0,4.0,0.05)\n",
      "vel = rad * 0.0\n",
      "for i in range(len(rad)):\n",
      "    vel[i] = velocity(rad[i],model)"
     ],
     "language": "python",
     "metadata": {},
     "outputs": [],
     "prompt_number": 31
    },
    {
     "cell_type": "heading",
     "level": 2,
     "metadata": {},
     "source": [
      "Plotting the basics"
     ]
    },
    {
     "cell_type": "code",
     "collapsed": false,
     "input": [
      "import matplotlib.pyplot as plt"
     ],
     "language": "python",
     "metadata": {},
     "outputs": [],
     "prompt_number": 32
    },
    {
     "cell_type": "code",
     "collapsed": false,
     "input": [
      "plt.plot(rad,vel)"
     ],
     "language": "python",
     "metadata": {},
     "outputs": [
      {
       "metadata": {},
       "output_type": "pyout",
       "prompt_number": 33,
       "text": [
        "[<matplotlib.lines.Line2D at 0x7fa1cdf9c750>]"
       ]
      },
      {
       "metadata": {},
       "output_type": "display_data",
       "png": "[encoded data removed]",
       "text": [
        "<matplotlib.figure.Figure at 0x7fa1d28a7a10>"
       ]
      }
     ],
     "prompt_number": 33
    },
    {
     "cell_type": "code",
     "collapsed": false,
     "input": [],
     "language": "python",
     "metadata": {},
     "outputs": [],
     "prompt_number": 8
    }
   ],
   "metadata": {}
  }
 ]
}