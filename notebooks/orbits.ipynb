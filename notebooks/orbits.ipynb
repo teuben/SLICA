{
 "cells": [
  {
   "cell_type": "markdown",
   "metadata": {},
   "source": [
    "# Gas Streaming in Disks: orbit approach\n",
    "\n",
    "The gas streaming around a young star, or in a galactic disk is dominated by gravity. So we can simply compute the orbits of a point mass around a star, or in the more complex potential of a galactic disk. Although there is a wonderful package in python for this, [galpy](https://github.com/jobovy/galpy), we will first try and use this from scratch in simple pure python. Another more advanced package using the C language, [NEMO](http://www.astro.umd.edu/nemo), also has programs to achieve the same result."
   ]
  },
  {
   "cell_type": "code",
   "execution_count": 69,
   "metadata": {
    "collapsed": false
   },
   "outputs": [],
   "source": [
    "# python 2-3 compatibility\n",
    "from __future__ import print_function"
   ]
  },
  {
   "cell_type": "code",
   "execution_count": 70,
   "metadata": {
    "collapsed": false
   },
   "outputs": [],
   "source": [
    "%matplotlib inline"
   ]
  },
  {
   "cell_type": "markdown",
   "metadata": {},
   "source": [
    "# Initialize the data"
   ]
  },
  {
   "cell_type": "code",
   "execution_count": 71,
   "metadata": {
    "collapsed": false
   },
   "outputs": [],
   "source": [
    "import numpy as np\n",
    "import math"
   ]
  },
  {
   "cell_type": "markdown",
   "metadata": {},
   "source": [
    "First we need to define a helper function that tells us the speed of the gas at a given distance from the center of the star or galaxy. We consider 4 simple cases here. Recall from your basic Newtonian physics that the circular speed of a test particle around a mass balances gravity and centrifugal force:\n",
    "$$\n",
    "  {v^2 \\over r} = { G M(<r) \\over {r^2}}\n",
    "$$\n",
    "from which we derive the rotation curve , $v(r)$:\n",
    "$$\n",
    "   { v(r) } = \\sqrt{  { G M(<r) \\over r }}\n",
    "$$"
   ]
  },
  {
   "cell_type": "code",
   "execution_count": 72,
   "metadata": {
    "collapsed": false
   },
   "outputs": [],
   "source": [
    "def velocity(radius, model='galaxy'):\n",
    "    \"\"\"describe the streaming velocity as function of radius in or around an object\n",
    "    such as a star or a galaxy.  We define the velocity to be 1 at a radius of 1.\n",
    "    \n",
    "    Caveat: radius is a scalar. It would be convenient if it could also be an array\n",
    "    and the function then return an array of velocities. This can be easily done in\n",
    "    python, but left out to keep the code simple.\n",
    "    \"\"\"\n",
    "    if model == 'star':\n",
    "        # A star has a keplerian rotation curve. The planets around our sun obey this law.\n",
    "        if radius == 0.0:\n",
    "            return 0.0\n",
    "        else:\n",
    "            return 1.0/math.sqrt(radius)\n",
    "    elif model == 'galaxy':\n",
    "        # Most disk galaxies have a flat rotation curve with a linear slope in the center.\n",
    "        if radius > 1.0:\n",
    "            # flat rotation curve outside radius 1.0\n",
    "            return 1.0\n",
    "        else:\n",
    "            # solid body inside radius 1.0, linearly rising rotation curve\n",
    "            return radius\n",
    "    elif model == 'sphere':\n",
    "        # a (solid) sphere with radius 1 and mass 1\n",
    "        if radius < 1.0:\n",
    "            return radius\n",
    "        else:\n",
    "            return 1.0/math.sqrt(radius) \n",
    "    elif model == 'plummer':\n",
    "        # A plummer sphere was an early 1800s description of clusters, and is not\n",
    "        # a bad description for the inner portions of a galaxy. You can also view it\n",
    "        # as a hybrid and softened version of the 'star' and 'galaxy' described above.\n",
    "        # Note: not 1 at 1 yet\n",
    "        return  radius / (1+radius*radius)**0.75\n",
    "    else:\n",
    "        return 0.0\n",
    "        "
   ]
  },
  {
   "cell_type": "code",
   "execution_count": 73,
   "metadata": {
    "collapsed": false
   },
   "outputs": [],
   "source": [
    "#model = 'star'\n",
    "#model = 'galaxy'\n",
    "model = 'plummer'\n",
    "#model = 'sphere'\n",
    "rad = np.arange(0.0,4.0,0.05)\n",
    "vel = rad * 0.0                         # vel = velocity(rad,model)    is not implemented in this code\n",
    "for i in range(len(rad)):\n",
    "    vel[i] = velocity(rad[i],model)"
   ]
  },
  {
   "cell_type": "markdown",
   "metadata": {},
   "source": [
    "## Plotting the Rotation Curve"
   ]
  },
  {
   "cell_type": "code",
   "execution_count": 74,
   "metadata": {
    "collapsed": false
   },
   "outputs": [],
   "source": [
    "import matplotlib.pyplot as plt"
   ]
  },
  {
   "cell_type": "code",
   "execution_count": 75,
   "metadata": {
    "collapsed": false
   },
   "outputs": [
    {
     "data": {
      "text/plain": [
       "<matplotlib.text.Text at 0x7ff9d73420f0>"
      ]
     },
     "execution_count": 75,
     "metadata": {},
     "output_type": "execute_result"
    },
    {
     "data": {
      "image/png": "[encoded data removed]",
      "text/plain": [
       "<matplotlib.figure.Figure at 0x7ff9d737af60>"
      ]
     },
     "metadata": {},
     "output_type": "display_data"
    }
   ],
   "source": [
    "plt.plot(rad,vel)\n",
    "plt.xlabel(\"Radius\")\n",
    "plt.ylabel(\"Velocity\")"
   ]
  },
  {
   "cell_type": "markdown",
   "metadata": {},
   "source": [
    "This curve of velocity as function of radius is called a **Rotation Curve**, and extracting such a curve from an observation is crucial to understanding the mass distribution within a galaxy, or the mass of the young star at the center of the disk. We are assuming the gas is on circular orbits, which turns out is not always correct. For this experiment we will keep that assumption."
   ]
  },
  {
   "cell_type": "code",
   "execution_count": 76,
   "metadata": {
    "collapsed": false
   },
   "outputs": [],
   "source": [
    "# set the inclination of the disk with the line of sigh (0 means face-on, 90 means edge-on)\n",
    "inc = 60\n",
    "cosi = math.cos(inc*math.pi/180.0)\n",
    "sini = math.sin(inc*math.pi/180.0)\n",
    "#  radius of the disk, and steps in radius\n",
    "r0 = 4.0\n",
    "dr = 0.5"
   ]
  },
  {
   "cell_type": "markdown",
   "metadata": {},
   "source": [
    "## Forward projection\n",
    "\n",
    "This is the most simple generic method. You describe the model, project it and simply compute the observables (the observed position **x** and **y**, and the radial velocity **v**). You then need to grid these observed points on a sky grid.\n"
   ]
  },
  {
   "cell_type": "code",
   "execution_count": 77,
   "metadata": {
    "collapsed": false
   },
   "outputs": [],
   "source": [
    "# get random points along a regular series of circles, which describes the model\n",
    "# we assume the gas is streaming along those circles\n",
    "radii = np.arange(0.0,r0,dr)\n",
    "xobs = np.arange(0)\n",
    "yobs = np.arange(0)\n",
    "vobs = np.arange(0)\n",
    "for r in radii:\n",
    "    vrot = velocity(r,model)\n",
    "    phi = np.random.random(45)*2*math.pi\n",
    "    # orbit properties we need\n",
    "    x  = r*np.cos(phi)\n",
    "    y  = r*np.sin(phi)\n",
    "    v  = vrot*np.cos(phi)\n",
    "    # project\n",
    "    xobs  = np.append(xobs,x)\n",
    "    yobs  = np.append(yobs,y*cosi)\n",
    "    vobs  = np.append(vobs,v*sini)"
   ]
  },
  {
   "cell_type": "markdown",
   "metadata": {},
   "source": [
    "Now we have a set of (xobs,yobs,vobs) points that need to be gridded on the sky."
   ]
  },
  {
   "cell_type": "code",
   "execution_count": 78,
   "metadata": {
    "collapsed": false
   },
   "outputs": [
    {
     "data": {
      "text/plain": [
       "<matplotlib.collections.PathCollection at 0x7ff9d72194e0>"
      ]
     },
     "execution_count": 78,
     "metadata": {},
     "output_type": "execute_result"
    },
    {
     "data": {
      "image/png": "[encoded data removed]",
      "text/plain": [
       "<matplotlib.figure.Figure at 0x7ff9d7380a90>"
      ]
     },
     "metadata": {},
     "output_type": "display_data"
    }
   ],
   "source": [
    "plt.scatter(xobs,yobs)"
   ]
  },
  {
   "cell_type": "code",
   "execution_count": 79,
   "metadata": {
    "collapsed": false
   },
   "outputs": [
    {
     "data": {
      "text/plain": [
       "<matplotlib.collections.PathCollection at 0x7ff9d756a780>"
      ]
     },
     "execution_count": 79,
     "metadata": {},
     "output_type": "execute_result"
    },
    {
     "data": {
      "image/png": "[encoded data removed]",
      "text/plain": [
       "<matplotlib.figure.Figure at 0x7ff9d722c5f8>"
      ]
     },
     "metadata": {},
     "output_type": "display_data"
    }
   ],
   "source": [
    "plt.scatter(xobs,vobs)"
   ]
  },
  {
   "cell_type": "code",
   "execution_count": 80,
   "metadata": {
    "collapsed": false
   },
   "outputs": [],
   "source": [
    "import scipy.interpolate\n"
   ]
  },
  {
   "cell_type": "code",
   "execution_count": 81,
   "metadata": {
    "collapsed": false
   },
   "outputs": [],
   "source": [
    "# f = scipy.interpolate.interp2d(xobs,yobs, vobs)"
   ]
  },
  {
   "cell_type": "markdown",
   "metadata": {},
   "source": [
    "Perhaps you can already see some flaws in this approach. But it's a more general approach to simulate an observation.  We will now do the reverse operation, since the rotation disk is simple to describe."
   ]
  },
  {
   "cell_type": "markdown",
   "metadata": {},
   "source": [
    "## Backwards Projection\n",
    "\n",
    "This is where we take a point in the sky, and deproject back where in the galaxy this point came from and compute the velocity and projected velocity. The big advantage is the simplicity of computing the observable at each picked point in the sky. The big drawback is that the deprojection may not be trivial in cases where the model is not simple, e.g. non-circular motion and/or non-planar disks. It also does not take into account that neighboring points should be averaged in a proper way to account for the fact that telescopes don't have infinite resolution. In the forwards projection method this is easier to deal with as one of the natural steps of that type of simulation of the observation.\n"
   ]
  },
  {
   "cell_type": "code",
   "execution_count": 82,
   "metadata": {
    "collapsed": false
   },
   "outputs": [
    {
     "data": {
      "image/png": "[encoded data removed]",
      "text/plain": [
       "<matplotlib.figure.Figure at 0x7ff9d7592400>"
      ]
     },
     "metadata": {},
     "output_type": "display_data"
    }
   ],
   "source": [
    "dr = 0.25                         # grid size\n",
    "x = np.arange(-r0,r0,dr)\n",
    "y = np.arange(-r0,r0,dr)\n",
    "xx,yy = np.meshgrid(x,y)\n",
    "rr = np.sqrt(xx*xx+(yy/cosi)**2)\n",
    "if r0/dr < 20:\n",
    "    plt.scatter(xx,yy)"
   ]
  },
  {
   "cell_type": "markdown",
   "metadata": {},
   "source": [
    "Although we have defined a function **velocity** to compute the rotation velocity at any radius, this function cannot easily compute from a numpy array, as we just created on a grid on the sky. Thus we need a convenience function to do just that, which we'll call **velocity2d**:"
   ]
  },
  {
   "cell_type": "code",
   "execution_count": 83,
   "metadata": {
    "collapsed": false
   },
   "outputs": [],
   "source": [
    "def velocity2d(rad2d, model):\n",
    "    \"\"\" convenience function to take a 2d array of radii\n",
    "        and return the same-shaped velocities\n",
    "    \"\"\"\n",
    "    (ny,nx) = rad2d.shape\n",
    "    vel2d = rad2d.copy()\n",
    "    for y in range(ny):\n",
    "        for x in range(nx):\n",
    "            vel2d[y,x] = velocity(rad2d[y,x],model)\n",
    "    return vel2d"
   ]
  },
  {
   "cell_type": "code",
   "execution_count": 84,
   "metadata": {
    "collapsed": false
   },
   "outputs": [],
   "source": [
    "vv = velocity2d(rr,model)\n",
    "vvmasked = np.ma.masked_where(rr>r0,vv)\n",
    "vobs = vvmasked * xx / rr * sini\n"
   ]
  },
  {
   "cell_type": "code",
   "execution_count": 85,
   "metadata": {
    "collapsed": false
   },
   "outputs": [
    {
     "data": {
      "text/plain": [
       "<matplotlib.colorbar.Colorbar at 0x7ff9d712c240>"
      ]
     },
     "execution_count": 85,
     "metadata": {},
     "output_type": "execute_result"
    },
    {
     "data": {
      "image/png": "[encoded data removed]",
      "text/plain": [
       "<matplotlib.figure.Figure at 0x7ff9d7210e48>"
      ]
     },
     "metadata": {},
     "output_type": "display_data"
    }
   ],
   "source": [
    "plt.imshow(vobs,origin=['Lower'])\n",
    "plt.colorbar()"
   ]
  },
  {
   "cell_type": "markdown",
   "metadata": {},
   "source": [
    "This plot will not look very good if you don't make the step size in radius (**dr**) small enough."
   ]
  },
  {
   "cell_type": "code",
   "execution_count": null,
   "metadata": {
    "collapsed": false
   },
   "outputs": [],
   "source": []
  },
  {
   "cell_type": "code",
   "execution_count": null,
   "metadata": {
    "collapsed": false
   },
   "outputs": [],
   "source": []
  }
 ],
 "metadata": {
  "kernelspec": {
   "display_name": "Python 3",
   "language": "python",
   "name": "python3"
  },
  "language_info": {
   "codemirror_mode": {
    "name": "ipython",
    "version": 3
   },
   "file_extension": ".py",
   "mimetype": "text/x-python",
   "name": "python",
   "nbconvert_exporter": "python",
   "pygments_lexer": "ipython3",
   "version": "3.5.1"
  }
 },
 "nbformat": 4,
 "nbformat_minor": 0
}
