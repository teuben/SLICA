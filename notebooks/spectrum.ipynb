{
 "cells": [
  {
   "cell_type": "markdown",
   "metadata": {},
   "source": [
    "# Spectra in (optical) Astronomy\n",
    "\n",
    "Here we introduce a simple spectrum, the example taken from the optical, where it all started.\n",
    "\n",
    "To quote **Roger Wesson**, the author of this particular spectrum:\n",
    "\n",
    "*The sample spectrum was extracted from a FORS2 observation of a planetary nebula with strong recombination lines. The extract covered Hβ, some collisionally excited lines of [Ar IV], and a number of recombination lines of O II, N II, N III and He II. I chose the spectrum so that it would contain some strong isolated lines and some weak blended lines, such that codes could be compared on the strong lines where user input should make minimal difference, and on the weak lines where subjective considerations come into play.*\n",
    "\n",
    "This particular spectrum was used in a comparison of codes that identify spectral lines. People were invited via facebook to run their code and a comparison between codes was made. (*reference needed*)"
   ]
  },
  {
   "cell_type": "code",
   "execution_count": 23,
   "metadata": {
    "collapsed": false
   },
   "outputs": [],
   "source": [
    "# python 2-3 compatibility\n",
    "from __future__ import print_function"
   ]
  },
  {
   "cell_type": "code",
   "execution_count": 24,
   "metadata": {
    "collapsed": false
   },
   "outputs": [],
   "source": [
    "%matplotlib inline"
   ]
  },
  {
   "cell_type": "markdown",
   "metadata": {},
   "source": [
    "## Reading the data\n",
    "\n",
    "The [astropy](http://www.astropy.org/) package has an I/O package to simplify reading and writing a number of popular formats common in astronomy. Here we use it to read an ascii table."
   ]
  },
  {
   "cell_type": "code",
   "execution_count": 25,
   "metadata": {
    "collapsed": false
   },
   "outputs": [],
   "source": [
    "from astropy.io import ascii"
   ]
  },
  {
   "cell_type": "markdown",
   "metadata": {},
   "source": [
    "We obtained a very simple ascii table with two columns, wavelength and intensity, of a spectrum at a particular point in the sky. The astropy module has some classes to deal with such ascii tables. Although this is not a very reliable way to store data, it is very simple and portable. Almost any software will be able to deal with such ascii files. Your favorite spreadsheet program probably prefers \"**csv**\" (comma-separated-values), where the space is replaced by a comma."
   ]
  },
  {
   "cell_type": "code",
   "execution_count": 39,
   "metadata": {
    "collapsed": false
   },
   "outputs": [
    {
     "name": "stdout",
     "output_type": "stream",
     "text": [
      " col1     col2   \n",
      "------ ----------\n",
      "4550.1  0.3311199\n",
      "4550.8  0.4177661\n",
      "4551.5  0.7227838\n",
      "4552.2   1.203263\n",
      "4552.9  0.9938312\n",
      "4553.6  0.5458607\n",
      "4554.3  0.3144122\n",
      "4555.0  0.3755327\n",
      "4555.7  0.5148661\n",
      "4556.4  0.5114279\n",
      "   ...        ...\n",
      "4892.4  0.1860969\n",
      "4893.1  0.1280223\n",
      "4893.8 0.07695893\n",
      "4894.5  0.1911669\n",
      "4895.2  0.1888568\n",
      "4895.9  0.1488285\n",
      "4896.6 0.04962431\n",
      "4897.3  0.1123619\n",
      "4898.0  0.2072301\n",
      "4898.7  0.1787372\n",
      "4899.4  0.1468009\n",
      "Length = 500 rows\n"
     ]
    }
   ],
   "source": [
    "data = ascii.read('../data/extract.dat')\n",
    "print(data)"
   ]
  },
  {
   "cell_type": "code",
   "execution_count": 40,
   "metadata": {
    "collapsed": false
   },
   "outputs": [],
   "source": [
    "x = data['col1']\n",
    "y = data['col2']"
   ]
  },
  {
   "cell_type": "markdown",
   "metadata": {},
   "source": [
    "This is a lot simpler than writing your own ascii table reader, although it is not very hard:\n"
   ]
  },
  {
   "cell_type": "code",
   "execution_count": 48,
   "metadata": {
    "collapsed": false
   },
   "outputs": [],
   "source": [
    "lines = open('../data/extract.dat').readlines()\n",
    "xt=[]\n",
    "yt=[]\n",
    "for line in lines:\n",
    "    words = line.split()\n",
    "    xt.append(float(words[0]))\n",
    "    yt.append(float(words[1]))\n",
    "xa = np.array(xt)\n",
    "ya = np.array(yt)\n",
    "# comment out the next line if you want to use the hand crafter ascii reader\n",
    "# x = xa; y = ya"
   ]
  },
  {
   "cell_type": "markdown",
   "metadata": {},
   "source": [
    "## Plotting the basics"
   ]
  },
  {
   "cell_type": "code",
   "execution_count": 49,
   "metadata": {
    "collapsed": false
   },
   "outputs": [],
   "source": [
    "import matplotlib.pyplot as plt"
   ]
  },
  {
   "cell_type": "code",
   "execution_count": 50,
   "metadata": {
    "collapsed": false
   },
   "outputs": [
    {
     "data": {
      "text/plain": [
       "[<matplotlib.lines.Line2D at 0x7feb747d5080>]"
      ]
     },
     "execution_count": 50,
     "metadata": {},
     "output_type": "execute_result"
    },
    {
     "data": {
      "image/png": "[encoded data removed]",
      "text/plain": [
       "<matplotlib.figure.Figure at 0x7feb749404a8>"
      ]
     },
     "metadata": {},
     "output_type": "display_data"
    }
   ],
   "source": [
    "plt.plot(x,y)"
   ]
  },
  {
   "cell_type": "markdown",
   "metadata": {},
   "source": [
    "There is a very strong line around 4865 Angstrom dominating this plot, and many weaker lines. If we rescale this plot and look what is near the baseline, we get to see these weaker lines much better:\n"
   ]
  },
  {
   "cell_type": "code",
   "execution_count": 51,
   "metadata": {
    "collapsed": false
   },
   "outputs": [
    {
     "data": {
      "text/plain": [
       "(-0.5, 2.0)"
      ]
     },
     "execution_count": 51,
     "metadata": {},
     "output_type": "execute_result"
    },
    {
     "data": {
      "image/png": "[encoded data removed]",
      "text/plain": [
       "<matplotlib.figure.Figure at 0x7feb747f1a90>"
      ]
     },
     "metadata": {},
     "output_type": "display_data"
    }
   ],
   "source": [
    "plt.plot(x,y)\n",
    "z = y*0.0\n",
    "plt.plot(x,z)\n",
    "plt.ylim(-0.5,2.0)"
   ]
  },
  {
   "cell_type": "markdown",
   "metadata": {},
   "source": [
    "**Exercise** : in the notebook you should see a little icon in the lower right of this plot that you can drag out and make the plot bigger, but notice it is simply enlarging some plot. There are no more details."
   ]
  },
  {
   "cell_type": "markdown",
   "metadata": {},
   "source": [
    "There is a fair amount of noise in this data, and you can also see the baseline is not 0. This means in this object there was some continuum emission, as astronomers call this. Without understanding more about the instrument, which is not the purpose of this excersize, you cannot say much more about separating the lines from the continuum.\n"
   ]
  },
  {
   "cell_type": "code",
   "execution_count": null,
   "metadata": {
    "collapsed": false
   },
   "outputs": [],
   "source": []
  }
 ],
 "metadata": {
  "kernelspec": {
   "display_name": "Python 3",
   "language": "python",
   "name": "python3"
  },
  "language_info": {
   "codemirror_mode": {
    "name": "ipython",
    "version": 3
   },
   "file_extension": ".py",
   "mimetype": "text/x-python",
   "name": "python",
   "nbconvert_exporter": "python",
   "pygments_lexer": "ipython3",
   "version": "3.5.1"
  }
 },
 "nbformat": 4,
 "nbformat_minor": 0
}
